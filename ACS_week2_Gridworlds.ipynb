{
  "nbformat": 4,
  "nbformat_minor": 0,
  "metadata": {
    "colab": {
      "provenance": [],
      "authorship_tag": "ABX9TyPaFUmcEzH9V+QFyi0X/zwu",
      "include_colab_link": true
    },
    "kernelspec": {
      "name": "python3",
      "display_name": "Python 3"
    },
    "language_info": {
      "name": "python"
    }
  },
  "cells": [
    {
      "cell_type": "markdown",
      "metadata": {
        "id": "view-in-github",
        "colab_type": "text"
      },
      "source": [
        "<a href=\"https://colab.research.google.com/github/aslestia/ACS_2025/blob/main/ACS_week2_Gridworlds.ipynb\" target=\"_parent\"><img src=\"https://colab.research.google.com/assets/colab-badge.svg\" alt=\"Open In Colab\"/></a>"
      ]
    },
    {
      "cell_type": "code",
      "source": [
        "env = GridWorld(\n",
        "    H=4, W=4,\n",
        "    start=(0,0),\n",
        "    goals={(3,3): +10},\n",
        "    traps={(1,2):-10, (2,1):-10},\n",
        "    step_reward=-1.0,\n",
        "    gamma=0.95,\n",
        "    slip=0.0    # ubah ke 0.1 untuk transisi probabilistik\n",
        ")\n",
        "\n",
        "# Value Iteration\n",
        "V_vi, Pi_vi = value_iteration(env, eps=1e-6)\n",
        "print(\"Value Iteration — Values:\")\n",
        "print_values(env, V_vi)\n",
        "print(\"Value Iteration — Policy:\")\n",
        "print_policy(env, Pi_vi)\n",
        "\n",
        "# Policy Iteration\n",
        "V_pi, Pi_pi = policy_iteration(env, eps=1e-6)\n",
        "print(\"Policy Iteration — Values:\")\n",
        "print_values(env, V_pi)\n",
        "print(\"Policy Iteration — Policy:\")\n",
        "print_policy(env, Pi_pi)\n"
      ],
      "metadata": {
        "colab": {
          "base_uri": "https://localhost:8080/"
        },
        "id": "E_IzKRU-DKaB",
        "outputId": "2cc19e42-5c5c-4718-a89a-38f569cddcca"
      },
      "execution_count": 4,
      "outputs": [
        {
          "output_type": "stream",
          "name": "stdout",
          "text": [
            "Value Iteration — Values:\n",
            "   3.2 |    4.4 |    5.7 |    7.1\n",
            "   4.4 |    3.2 |    0.0 |    8.5\n",
            "   5.7 |    0.0 |    8.5 |   10.0\n",
            "   7.1 |    8.5 |   10.0 |    0.0\n",
            "\n",
            "Value Iteration — Policy:\n",
            "→ → → ↓\n",
            "↓ ↑ ■ ↓\n",
            "↓ ■ → ↓\n",
            "→ → → ■\n",
            "\n",
            "Policy Iteration — Values:\n",
            "   3.2 |    4.4 |    5.7 |    7.1\n",
            "   4.4 |    3.2 |    0.0 |    8.5\n",
            "   5.7 |    0.0 |    8.5 |   10.0\n",
            "   7.1 |    8.5 |   10.0 |    0.0\n",
            "\n",
            "Policy Iteration — Policy:\n",
            "→ → → ↓\n",
            "↓ ↑ ■ ↓\n",
            "↓ ■ → ↓\n",
            "→ → → ■\n",
            "\n"
          ]
        }
      ]
    }
  ]
}