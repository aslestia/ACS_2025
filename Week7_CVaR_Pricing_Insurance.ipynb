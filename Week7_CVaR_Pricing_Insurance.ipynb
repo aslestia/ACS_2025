{
  "cells": [
    {
      "cell_type": "markdown",
      "metadata": {
        "id": "view-in-github",
        "colab_type": "text"
      },
      "source": [
        "<a href=\"https://colab.research.google.com/github/aslestia/ACS_2025/blob/main/Week7_CVaR_Pricing_Insurance.ipynb\" target=\"_parent\"><img src=\"https://colab.research.google.com/assets/colab-badge.svg\" alt=\"Open In Colab\"/></a>"
      ]
    },
    {
      "cell_type": "markdown",
      "id": "3ae5196e",
      "metadata": {
        "id": "3ae5196e"
      },
      "source": [
        "\n",
        "# Week 7 Practice 2 — CVaR-based Pricing for Insurance Claims\n",
        "\n",
        "Tujuan:\n",
        "- Mengestimasi **VaR** dan **CVaR** pada data klaim.\n",
        "- Membandingkan **premi berbasis Expected Loss** vs **premi berbasis CVaR**.\n",
        "- Opsional: pemodelan ekor sederhana (POT) jika dibutuhkan.\n",
        "\n",
        "> Jika Anda memiliki file klaim asli (mis. Danish Fire), ganti langkah simulasi dengan `pd.read_csv(...)`.\n"
      ]
    },
    {
      "cell_type": "code",
      "execution_count": null,
      "id": "5a05a5ac",
      "metadata": {
        "id": "5a05a5ac"
      },
      "outputs": [],
      "source": [
        "\n",
        "import numpy as np, pandas as pd, math\n",
        "import matplotlib.pyplot as plt\n",
        "\n",
        "np.random.seed(123)\n",
        "\n",
        "# ====== Helper: empirical VaR & CVaR for losses ======\n",
        "def var_cvar_losses(losses: np.ndarray, alpha: float=0.95):\n",
        "    x = np.sort(losses)  # ascending\n",
        "    q_idx = int(math.floor(alpha * (len(x)-1)))\n",
        "    var = x[q_idx]\n",
        "    tail = x[q_idx:]\n",
        "    cvar = tail.mean() if len(tail) else var\n",
        "    return var, cvar\n",
        "\n",
        "# ====== Load or simulate data ======\n",
        "USE_SIM = True  # set False and load your CSV\n",
        "\n",
        "if USE_SIM:\n",
        "    # Simulasi heavy-tailed: campuran Lognormal + Pareto untuk menyerupai data kebakaran\n",
        "    n = 5000\n",
        "    mix = np.random.binomial(1, 0.85, size=n)  # 85% lognormal, 15% Pareto (ekor berat)\n",
        "    logn = np.random.lognormal(mean=8.5, sigma=0.9, size=n)  # skala bebas\n",
        "    # Pareto(scale xm, shape alpha)\n",
        "    xm, alpha_shape = 5e3, 1.5\n",
        "    pareto = xm * (1/np.random.random(size=n))**(1/alpha_shape)\n",
        "    losses = mix*logn + (1-mix)*pareto\n",
        "    df = pd.DataFrame({\"loss\": losses})\n",
        "else:\n",
        "    import pandas as pd\n",
        "    df = pd.read_csv(\"claims.csv\")  # ganti nama file\n",
        "    df = df.rename(columns={df.columns[0]:\"loss\"})\n",
        "    losses = df[\"loss\"].values\n",
        "\n",
        "df.describe()\n"
      ]
    },
    {
      "cell_type": "markdown",
      "id": "bb60c97a",
      "metadata": {
        "id": "bb60c97a"
      },
      "source": [
        "\n",
        "## Estimasi VaR & CVaR dan Perbandingan Premi\n"
      ]
    },
    {
      "cell_type": "code",
      "execution_count": null,
      "id": "7808f92c",
      "metadata": {
        "id": "7808f92c"
      },
      "outputs": [],
      "source": [
        "import numpy as np, pandas as pd, math\n",
        "\n",
        "# ====== Helper: empirical VaR & CVaR for losses ======\n",
        "def var_cvar_losses(losses: np.ndarray, alpha: float=0.95):\n",
        "    x = np.sort(losses)  # ascending\n",
        "    q_idx = int(math.floor(alpha * (len(x)-1)))\n",
        "    var = x[q_idx]\n",
        "    tail = x[q_idx:]\n",
        "    cvar = tail.mean() if len(tail) else var\n",
        "    return var, cvar\n",
        "\n",
        "# ====== Load or simulate data ======\n",
        "USE_SIM = True  # set False and load your CSV\n",
        "\n",
        "if USE_SIM:\n",
        "    # Simulasi heavy-tailed: campuran Lognormal + Pareto untuk menyerupai data kebakaran\n",
        "    n = 5000\n",
        "    mix = np.random.binomial(1, 0.85, size=n)  # 85% lognormal, 15% Pareto (ekor berat)\n",
        "    logn = np.random.lognormal(mean=8.5, sigma=0.9, size=n)  # skala bebas\n",
        "    # Pareto(scale xm, shape alpha)\n",
        "    xm, alpha_shape = 5e3, 1.5\n",
        "    pareto = xm * (1/np.random.random(size=n))**(1/alpha_shape)\n",
        "    losses = mix*logn + (1-mix)*pareto\n",
        "    df = pd.DataFrame({\"loss\": losses})\n",
        "else:\n",
        "    import pandas as pd\n",
        "    df = pd.read_csv(\"claims.csv\")  # ganti nama file\n",
        "    df = df.rename(columns={df.columns[0]:\"loss\"})\n",
        "    losses = df[\"loss\"].values\n",
        "\n",
        "alpha_list = [0.95, 0.99]\n",
        "mean_loss = losses.mean()\n",
        "prem_expected = mean_loss  # Expected loss premium (belum termasuk loading)\n",
        "\n",
        "rows = []\n",
        "for a in alpha_list:\n",
        "    var, cvar = var_cvar_losses(losses, alpha=a)\n",
        "    rows.append({\"alpha\": a, \"VaR\": var, \"CVaR\": cvar})\n",
        "\n",
        "summary = pd.DataFrame(rows)\n",
        "summary[\"Expected_Loss\"] = mean_loss"
      ]
    },
    {
      "cell_type": "code",
      "execution_count": null,
      "id": "9e5519d9",
      "metadata": {
        "id": "9e5519d9"
      },
      "outputs": [],
      "source": [
        "import numpy as np, pandas as pd, math\n",
        "\n",
        "# ====== Helper: empirical VaR & CVaR for losses ======\n",
        "def var_cvar_losses(losses: np.ndarray, alpha: float=0.95):\n",
        "    x = np.sort(losses)  # ascending\n",
        "    q_idx = int(math.floor(alpha * (len(x)-1)))\n",
        "    var = x[q_idx]\n",
        "    tail = x[q_idx:]\n",
        "    cvar = tail.mean() if len(tail) else var\n",
        "    return var, cvar\n",
        "\n",
        "# ====== Load or simulate data ======\n",
        "USE_SIM = True  # set False and load your CSV\n",
        "\n",
        "if USE_SIM:\n",
        "    # Simulasi heavy-tailed: campuran Lognormal + Pareto untuk menyerupai data kebakaran\n",
        "    n = 5000\n",
        "    mix = np.random.binomial(1, 0.85, size=n)  # 85% lognormal, 15% Pareto (ekor berat)\n",
        "    logn = np.random.lognormal(mean=8.5, sigma=0.9, size=n)  # skala bebas\n",
        "    # Pareto(scale xm, shape alpha)\n",
        "    xm, alpha_shape = 5e3, 1.5\n",
        "    pareto = xm * (1/np.random.random(size=n))**(1/alpha_shape)\n",
        "    losses = mix*logn + (1-mix)*pareto\n",
        "    df = pd.DataFrame({\"loss\": losses})\n",
        "else:\n",
        "    import pandas as pd\n",
        "    df = pd.read_csv(\"claims.csv\")  # ganti nama file\n",
        "    df = df.rename(columns={df.columns[0]:\"loss\"})\n",
        "    losses = df[\"loss\"].values\n",
        "\n",
        "alpha_list = [0.95, 0.99]\n",
        "mean_loss = losses.mean()\n",
        "prem_expected = mean_loss  # Expected loss premium (belum termasuk loading)\n",
        "\n",
        "rows = []\n",
        "for a in alpha_list:\n",
        "    var, cvar = var_cvar_losses(losses, alpha=a)\n",
        "    rows.append({\"alpha\": a, \"VaR\": var, \"CVaR\": cvar})\n",
        "\n",
        "summary = pd.DataFrame(rows)\n",
        "summary[\"Expected_Loss\"] = mean_loss\n",
        "\n",
        "print(\"Ringkasan Premi & Risiko:\\n\")\n",
        "from IPython.display import display\n",
        "display(summary.style.format({\n",
        "    \"VaR\": \"{:,.2f}\".format,\n",
        "    \"CVaR\": \"{:,.2f}\".format,\n",
        "    \"Expected_Loss\": \"{:,.2f}\".format\n",
        "}))"
      ]
    },
    {
      "cell_type": "code",
      "execution_count": null,
      "id": "91bb4eab",
      "metadata": {
        "id": "91bb4eab"
      },
      "outputs": [],
      "source": [
        "import numpy as np, pandas as pd, math\n",
        "import matplotlib.pyplot as plt\n",
        "\n",
        "# ====== Helper: empirical VaR & CVaR for losses ======\n",
        "def var_cvar_losses(losses: np.ndarray, alpha: float=0.95):\n",
        "    x = np.sort(losses)  # ascending\n",
        "    q_idx = int(math.floor(alpha * (len(x)-1)))\n",
        "    var = x[q_idx]\n",
        "    tail = x[q_idx:]\n",
        "    cvar = tail.mean() if len(tail) else var\n",
        "    return var, cvar\n",
        "\n",
        "# ====== Load or simulate data ======\n",
        "USE_SIM = True  # set False and load your CSV\n",
        "\n",
        "if USE_SIM:\n",
        "    # Simulasi heavy-tailed: campuran Lognormal + Pareto untuk menyerupai data kebakaran\n",
        "    n = 5000\n",
        "    mix = np.random.binomial(1, 0.85, size=n)  # 85% lognormal, 15% Pareto (ekor berat)\n",
        "    logn = np.random.lognormal(mean=8.5, sigma=0.9, size=n)  # skala bebas\n",
        "    # Pareto(scale xm, shape alpha)\n",
        "    xm, alpha_shape = 5e3, 1.5\n",
        "    pareto = xm * (1/np.random.random(size=n))**(1/alpha_shape)\n",
        "    losses = mix*logn + (1-mix)*pareto\n",
        "    df = pd.DataFrame({\"loss\": losses})\n",
        "else:\n",
        "    import pandas as pd\n",
        "    df = pd.read_csv(\"claims.csv\")  # ganti nama file\n",
        "    df = df.rename(columns={df.columns[0]:\"loss\"})\n",
        "    losses = df[\"loss\"].values\n",
        "\n",
        "\n",
        "# Plot histogram losses + garis VaR/CVaR (alpha=0.95)\n",
        "alpha = 0.95\n",
        "var, cvar = var_cvar_losses(losses, alpha=alpha)\n",
        "\n",
        "plt.figure(figsize=(7.5,4))\n",
        "plt.hist(losses, bins=100)\n",
        "plt.axvline(var, linestyle=\"--\", label=f\"VaR {alpha:.2f}\")\n",
        "plt.axvline(cvar, linestyle=\"-.\", label=f\"CVaR {alpha:.2f}\")\n",
        "plt.title(\"Histogram Losses with VaR and CVaR\")\n",
        "plt.xlabel(\"Loss amount\")\n",
        "plt.ylabel(\"Count\")\n",
        "plt.legend()\n",
        "plt.yscale(\"log\")  # ekor berat terlihat lebih jelas\n",
        "plt.show()"
      ]
    }
  ],
  "metadata": {
    "colab": {
      "provenance": [],
      "include_colab_link": true
    },
    "language_info": {
      "name": "python"
    },
    "kernelspec": {
      "name": "python3",
      "display_name": "Python 3"
    }
  },
  "nbformat": 4,
  "nbformat_minor": 5
}