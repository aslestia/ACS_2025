{
  "nbformat": 4,
  "nbformat_minor": 0,
  "metadata": {
    "colab": {
      "provenance": [],
      "authorship_tag": "ABX9TyMqGZpEpA+NakEOeI3mK56A",
      "include_colab_link": true
    },
    "kernelspec": {
      "name": "python3",
      "display_name": "Python 3"
    },
    "language_info": {
      "name": "python"
    }
  },
  "cells": [
    {
      "cell_type": "markdown",
      "metadata": {
        "id": "view-in-github",
        "colab_type": "text"
      },
      "source": [
        "<a href=\"https://colab.research.google.com/github/aslestia/ACS_2025/blob/main/ACS_week2_Gridworld.ipynb\" target=\"_parent\"><img src=\"https://colab.research.google.com/assets/colab-badge.svg\" alt=\"Open In Colab\"/></a>"
      ]
    },
    {
      "cell_type": "code",
      "source": [
        "#Pseudocode — GridWorld sederhana (deterministik, tanpa DP)\n",
        "INPUT:\n",
        "  H, W (ukuran grid), START, GOAL, TRAPS, STEP_REWARD\n",
        "STATE:\n",
        "  posisi s = (r, c)\n",
        "\n",
        "ACTIONS:\n",
        "  Up, Right, Down, Left  (gerak 1 sel; kalau nabrak tembok → tetap)\n",
        "\n",
        "TRANSITION(s, a):\n",
        "  s' = s digerakkan oleh a (atau tetap jika nabrak)\n",
        "  reward r =\n",
        "    +R_goal  jika s' = GOAL\n",
        "    R_trap   jika s' ∈ TRAPS\n",
        "    STEP_REWARD selain itu\n",
        "  terminal = True jika s' goal/trap, else False\n",
        "  return (s', r, terminal)\n",
        "\n",
        "EPISODE (simulasi sederhana):\n",
        "  s ← START\n",
        "  total_reward ← 0\n",
        "  while not terminal:\n",
        "      pilih aksi (misal: greedy ke goal atau random)\n",
        "      (s, r, terminal) ← TRANSITION(s, aksi)\n",
        "      total_reward += r\n",
        "  laporkan total_reward dan lintasan\n"
      ],
      "metadata": {
        "id": "8SpxFz3DPkei"
      },
      "execution_count": null,
      "outputs": []
    },
    {
      "cell_type": "code",
      "source": [
        "#Code — GridWorld sederhana (siap jalan, tanpa DP)\n",
        "\n",
        "import numpy as np\n",
        "\n",
        "ACTIONS = {0:(-1,0), 1:(0,1), 2:(1,0), 3:(0,-1)}  # U,R,D,L\n",
        "NAMES   = {0:'Up', 1:'Right', 2:'Down', 3:'Left'}\n",
        "\n",
        "class SimpleGridWorld:\n",
        "    def __init__(self, H=4, W=4, start=(0,0), goal=(3,3),\n",
        "                 traps={(1,2):-10,(2,1):-10}, step_reward=-1, goal_reward=+10):\n",
        "        self.H = H; self.W = W\n",
        "        self.start=start; self.goal=goal\n",
        "        self.traps=traps; self.step_reward=step_reward; self.goal_reward=goal_reward\n",
        "\n",
        "    def in_bounds(self, r,c): return 0<=r<self.H and 0<=c<self.W\n",
        "\n",
        "    def step(self, s, a):\n",
        "        dr,dc = ACTIONS[a]\n",
        "        r,c = s[0]+dr, s[1]+dc\n",
        "        if not self.in_bounds(r,c): r,c = s  # tembok: tetap\n",
        "        s2 = (r,c)\n",
        "        if s2 == self.goal:\n",
        "            return s2, self.goal_reward, True\n",
        "        if s2 in self.traps:\n",
        "            return s2, self.traps[s2], True\n",
        "        return s2, self.step_reward, False\n",
        "\n",
        "    def run_episode(self, policy=None, max_steps=100):\n",
        "        s = self.start; total = 0; traj=[s]\n",
        "        for _ in range(max_steps):\n",
        "            if policy is None: a = np.random.choice([0,1,2,3])  # random\n",
        "            else: a = policy[s]\n",
        "            s, r, done = self.step(s, a)\n",
        "            total += r; traj.append(s)\n",
        "            if done: break\n",
        "        return total, traj\n",
        "\n",
        "# contoh pakai\n",
        "env = SimpleGridWorld()\n",
        "total, path = env.run_episode()\n",
        "print(\"Total reward:\", total)\n",
        "print(\"Path:\", path)"
      ],
      "metadata": {
        "colab": {
          "base_uri": "https://localhost:8080/"
        },
        "id": "_l1oDFOiPuRR",
        "outputId": "4bca03d0-89a5-4119-c595-21547f77527b"
      },
      "execution_count": null,
      "outputs": [
        {
          "output_type": "stream",
          "name": "stdout",
          "text": [
            "Total reward: -16\n",
            "Path: [(0, 0), (0, 0), (0, 0), (0, 0), (0, 0), (0, 1), (1, 1), (2, 1)]\n"
          ]
        }
      ]
    }
  ]
}